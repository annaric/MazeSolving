{
 "cells": [
  {
   "cell_type": "code",
   "execution_count": 5,
   "metadata": {},
   "outputs": [],
   "source": [
    "from ThymioControl import ThymioControl\n",
    "class ThymioControlM(ThymioControl):\n",
    "    def forward(self,distance):\n",
    "        '''Robot moves forward a given distance'''\n",
    "        p1=self.sim.getObjectPose(self.handles[self.names['robot'][0]],self.sim.handle_world)\n",
    "        pm=self.sim.buildPose([distance,0,0],[0,0,0],0)\n",
    "        p2=self.sim.multiplyPoses(p1,pm)\n",
    "        self.sim.setObjectPose(self.handles[self.names['robot'][0]],self.sim.handle_world,p2)               \n",
    "        #print(f'distance: {math.sqrt((p2[1]-p1[1])*(p2[1]-p1[1])+(p2[0]-p1[0])*(p2[0]-p1[0]))}')\n",
    "        self.step()\n",
    "\n",
    "\n",
    "    def turn(self,angle):\n",
    "        p1=self.sim.getObjectPose(self.handles[self.names['robot'][0]],self.sim.handle_world)\n",
    "        pm=self.sim.buildPose([0,0,0],[0,0,math.radians(angle)],0)\n",
    "        p2=self.sim.multiplyPoses(p1,pm)\n",
    "        self.sim.setObjectPose(self.handles[self.names['robot'][0]],self.sim.handle_world,p2)                       \n",
    "        self.step()\n",
    "\n",
    "    def check_valid_state(self,state): \n",
    "        return not self.getCollisions(body='/Thymio') and not self.out_of_bounds(body='/Thymio')\n",
    "    \n",
    "    def out_of_bounds(self,body='/Thymio'):\n",
    "        ''' Checks if the robot is out of bounds'''\n",
    "        p=self.getPose()\n",
    "        #print(f'Pose: {p}')\n",
    "        return p[0]<-1 or p[0]>1 or p[1]<-1 or p[1]>1\n",
    "\n",
    "       \n"
   ]
  },
  {
   "cell_type": "code",
   "execution_count": 2,
   "metadata": {},
   "outputs": [
    {
     "data": {
      "text/plain": [
       "[26, 13]"
      ]
     },
     "execution_count": 2,
     "metadata": {},
     "output_type": "execute_result"
    }
   ],
   "source": [
    "a=ThymioControl()\n"
   ]
  }
 ],
 "metadata": {
  "kernelspec": {
   "display_name": "base",
   "language": "python",
   "name": "python3"
  },
  "language_info": {
   "codemirror_mode": {
    "name": "ipython",
    "version": 3
   },
   "file_extension": ".py",
   "mimetype": "text/x-python",
   "name": "python",
   "nbconvert_exporter": "python",
   "pygments_lexer": "ipython3",
   "version": "3.10.9"
  },
  "orig_nbformat": 4
 },
 "nbformat": 4,
 "nbformat_minor": 2
}
